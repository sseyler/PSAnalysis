{
 "cells": [
  {
   "cell_type": "code",
   "execution_count": 1,
   "metadata": {
    "collapsed": false
   },
   "outputs": [],
   "source": [
    "%load_ext cython\n",
    "%load_ext autoreload\n",
    "%autoreload 2"
   ]
  },
  {
   "cell_type": "code",
   "execution_count": 2,
   "metadata": {
    "collapsed": true
   },
   "outputs": [],
   "source": [
    "from psa import *\n",
    "from MDAnalysis import Universe\n",
    "from MDAnalysis.analysis.align import rotation_matrix\n",
    "import numpy as np\n",
    "import os, sys\n",
    "WORKDIR = '/nfs/homes/sseyler/Repositories/python/psanalysis'\n",
    "sys.path.append(WORKDIR)"
   ]
  },
  {
   "cell_type": "code",
   "execution_count": 3,
   "metadata": {
    "collapsed": false
   },
   "outputs": [
    {
     "name": "stdout",
     "output_type": "stream",
     "text": [
      "Generating AdK CORE C-alpha reference coords + structure...\n"
     ]
    }
   ],
   "source": [
    "print(\"Generating AdK CORE C-alpha reference coords + structure...\")\n",
    "cref_filename = '%s/structs/1ake_a_ca_core.pdb' % WORKDIR\n",
    "oref_filename = '%s/structs/4ake_a_ca_core.pdb' % WORKDIR\n",
    "\n",
    "c_ref = MDAnalysis.Universe(cref_filename)\n",
    "o_ref = MDAnalysis.Universe(oref_filename)\n",
    "u_ref = MDAnalysis.Universe(cref_filename)\n",
    "\n",
    "c_ref_ca = c_ref.selectAtoms('name CA')\n",
    "o_ref_ca = o_ref.selectAtoms('name CA')\n",
    "\n",
    "adkCORE_resids = \"(resid 1:29 or resid 60:121 or resid 160:214)\"\n",
    "c_ref_CORE_ca = c_ref_ca.selectAtoms(adkCORE_resids).coordinates() \\\n",
    "        - c_ref_ca.selectAtoms(adkCORE_resids).centerOfMass()\n",
    "o_ref_CORE_ca = o_ref_ca.selectAtoms(adkCORE_resids).coordinates() \\\n",
    "        - o_ref_ca.selectAtoms(adkCORE_resids).centerOfMass()\n",
    "ref_coords = 0.5*(c_ref_CORE_ca + o_ref_CORE_ca)\n",
    "\n",
    "u_ref.atoms.translate(-c_ref_ca.selectAtoms(adkCORE_resids).centerOfMass())\n",
    "o_ref.atoms.translate(-o_ref_ca.selectAtoms(adkCORE_resids).centerOfMass())\n",
    "u_ref.selectAtoms(adkCORE_resids).CA.set_positions(ref_coords)"
   ]
  },
  {
   "cell_type": "code",
   "execution_count": 142,
   "metadata": {
    "collapsed": false
   },
   "outputs": [
    {
     "name": "stdout",
     "output_type": "stream",
     "text": [
      "Building collection of simulations...\n"
     ]
    }
   ],
   "source": [
    "print(\"Building collection of simulations...\")\n",
    "# List of method names (same as directory names)\n",
    "# method_names = ['DIMS', 'FRODA', 'MAP']\n",
    "method_names = ['DIMS', 'TMD', 'FRODA', 'MAP', 'iENM', 'MENM-SP', 'MENM-SD',       \\\n",
    "                'MDdMD', 'GOdMD', 'Morph', 'ANMP', 'LinInt']\n",
    "labels = [] # Heat map labels\n",
    "simulations = [] # List of simulation topology/trajectory filename pairs\n",
    "universes = [] # List of MDAnalysis Universes representing simulations\n",
    "\n",
    "# Build list of simulations, each represented by a pair of filenames\n",
    "# ([topology filename], [trajectory filename]). Generate corresponding label\n",
    "# list.\n",
    "for method in method_names:\n",
    "    # Note: DIMS uses the PSF topology format\n",
    "    topname = 'top.psf' if ('DIMS' in method or 'TMD' in method) else 'top.pdb'\n",
    "    pathname = 'path.dcd'\n",
    "    method_dir = '{}/methods/{}'.format(WORKDIR, method)\n",
    "    if method is not 'LinInt':\n",
    "        if 'TMD' in method:\n",
    "            for run in xrange(1, 11): # 3 runs per method\n",
    "                run_dir = '{}/{:03n}'.format(method_dir, run)\n",
    "                topology = '{}/{}'.format(method_dir, topname)\n",
    "                trajectory = '{}/{}'.format(run_dir, pathname)\n",
    "                labels.append(method + '(' + str(run) + ')')\n",
    "                simulations.append((topology, trajectory))\n",
    "#         nruns = 3 if 'TMD' not in method else 9\n",
    "        else:\n",
    "            for run in xrange(1, nruns+1): # 3 runs per method\n",
    "                run_dir = '{}/{:03n}'.format(method_dir, run)\n",
    "                topology = '{}/{}'.format(method_dir, topname)\n",
    "                trajectory = '{}/{}'.format(run_dir, pathname)\n",
    "                labels.append(method + '(' + str(run) + ')')\n",
    "                simulations.append((topology, trajectory))\n",
    "    else: # only one LinInt trajectory\n",
    "        topology = '{}/{}'.format(method_dir, topname)\n",
    "        trajectory = '{}/{}'.format(method_dir, pathname)\n",
    "        labels.append(method)\n",
    "        simulations.append((topology, trajectory))"
   ]
  },
  {
   "cell_type": "code",
   "execution_count": 143,
   "metadata": {
    "collapsed": false
   },
   "outputs": [],
   "source": [
    "# Generate simulation list represented as Universes. Each item, sim, in\n",
    "# simulations is a topology/trajectory filename pair that is unpacked into\n",
    "# an argument list with the \"splat\" (\"*\") operator.\n",
    "for sim in simulations:\n",
    "    universes.append(Universe(*sim))"
   ]
  },
  {
   "cell_type": "code",
   "execution_count": 144,
   "metadata": {
    "collapsed": false
   },
   "outputs": [
    {
     "name": "stdout",
     "output_type": "stream",
     "text": [
      "Initializing Path Similarity Analysis...\n"
     ]
    }
   ],
   "source": [
    "print(\"Initializing Path Similarity Analysis...\")\n",
    "ref_selection = \"name CA and \" + adkCORE_resids\n",
    "psa_full = PSA(universes, reference=u_ref, ref_select=ref_selection,\n",
    "                    path_select=\"name CA\", labels=labels)"
   ]
  },
  {
   "cell_type": "code",
   "execution_count": 145,
   "metadata": {
    "collapsed": false
   },
   "outputs": [
    {
     "name": "stderr",
     "output_type": "stream",
     "text": [
      "Fitted frame   102/102  [100.0%]\n",
      "Fitted frame    92/92  [100.0%]\n",
      "Fitted frame    95/95  [100.0%]\n",
      "Fitted frame    97/97  [100.0%]\n",
      "Fitted frame    98/98  [100.0%]\n",
      "Fitted frame    98/98  [100.0%]\n",
      "Fitted frame    98/98  [100.0%]\n",
      "Fitted frame    98/98  [100.0%]\n",
      "Fitted frame    98/98  [100.0%]\n",
      "Fitted frame    91/91  [100.0%]\n",
      "Fitted frame    91/91  [100.0%]\n",
      "Fitted frame    91/91  [100.0%]\n",
      "Fitted frame   495/495  [100.0%]\n",
      "Fitted frame   142/142  [100.0%]\n",
      "Fitted frame   141/141  [100.0%]\n",
      "Fitted frame   142/142  [100.0%]\n",
      "Fitted frame   201/201  [100.0%]\n",
      "Fitted frame   201/201  [100.0%]\n",
      "Fitted frame   201/201  [100.0%]\n",
      "Fitted frame    33/33  [100.0%]\n",
      "Fitted frame    34/34  [100.0%]\n",
      "Fitted frame    36/36  [100.0%]\n",
      "Fitted frame    52/52  [100.0%]\n",
      "Fitted frame    51/51  [100.0%]\n",
      "Fitted frame    51/51  [100.0%]\n",
      "Fitted frame    49/49  [100.0%]\n",
      "Fitted frame    45/45  [100.0%]\n",
      "Fitted frame    43/43  [100.0%]\n",
      "Fitted frame    54/54  [100.0%]\n",
      "Fitted frame    64/64  [100.0%]\n",
      "Fitted frame    48/48  [100.0%]\n",
      "Fitted frame    81/81  [100.0%]\n",
      "Fitted frame   145/145  [100.0%]\n",
      "Fitted frame   226/226  [100.0%]\n",
      "Fitted frame   100/100  [100.0%]\n",
      "Fitted frame   100/100  [100.0%]\n",
      "Fitted frame   100/100  [100.0%]\n",
      "Fitted frame   107/107  [100.0%]\n",
      "Fitted frame   107/107  [100.0%]\n",
      "Fitted frame   107/107  [100.0%]\n",
      "Fitted frame   100/100  [100.0%]\n"
     ]
    },
    {
     "name": "stdout",
     "output_type": "stream",
     "text": [
      "Generating Path objects from aligned trajectories...\n"
     ]
    }
   ],
   "source": [
    "print(\"Generating Path objects from aligned trajectories...\")\n",
    "psa_full.generate_paths(align=True, store=True)"
   ]
  },
  {
   "cell_type": "markdown",
   "metadata": {},
   "source": [
    "# ============================="
   ]
  },
  {
   "cell_type": "code",
   "execution_count": 146,
   "metadata": {
    "collapsed": true
   },
   "outputs": [],
   "source": [
    "# metric = 'discrete_frechet'\n",
    "metric = frechet_v6b\n",
    "linkage = 'ward' # 'single' 'complete' 'weighted' 'average'\n",
    "plotname = 'df_ward_psa-withTMD-1-10.pdf'"
   ]
  },
  {
   "cell_type": "code",
   "execution_count": 147,
   "metadata": {
    "collapsed": false
   },
   "outputs": [
    {
     "name": "stdout",
     "output_type": "stream",
     "text": [
      "Calculating distance matrix...\n"
     ]
    }
   ],
   "source": [
    "print(\"Calculating distance matrix...\")\n",
    "psa_full.run(metric=metric)"
   ]
  },
  {
   "cell_type": "code",
   "execution_count": 148,
   "metadata": {
    "collapsed": false
   },
   "outputs": [
    {
     "name": "stdout",
     "output_type": "stream",
     "text": [
      "Plotting heat map-dendrogram for hierarchical clustering...\n"
     ]
    }
   ],
   "source": [
    "print(\"Plotting heat map-dendrogram for hierarchical clustering...\")\n",
    "psa_full.plot(filename=plotname, linkage=linkage);"
   ]
  },
  {
   "cell_type": "code",
   "execution_count": 149,
   "metadata": {
    "collapsed": true
   },
   "outputs": [],
   "source": [
    "df_default = psa_full.D"
   ]
  },
  {
   "cell_type": "code",
   "execution_count": 150,
   "metadata": {
    "collapsed": false
   },
   "outputs": [],
   "source": [
    "# metric = 'hausdorff'\n",
    "metric = hausdorff_v6\n",
    "linkage = 'ward' # 'single' 'complete' 'weighted' 'average'\n",
    "plotname = 'dh_ward_psa-withTMD-1-10.pdf'"
   ]
  },
  {
   "cell_type": "code",
   "execution_count": 151,
   "metadata": {
    "collapsed": false
   },
   "outputs": [
    {
     "name": "stdout",
     "output_type": "stream",
     "text": [
      "Calculating distance matrix...\n"
     ]
    }
   ],
   "source": [
    "print(\"Calculating distance matrix...\")\n",
    "psa_full.run(metric=metric)"
   ]
  },
  {
   "cell_type": "code",
   "execution_count": 152,
   "metadata": {
    "collapsed": false
   },
   "outputs": [
    {
     "name": "stdout",
     "output_type": "stream",
     "text": [
      "Plotting heat map-dendrogram for hierarchical clustering...\n"
     ]
    }
   ],
   "source": [
    "print(\"Plotting heat map-dendrogram for hierarchical clustering...\")\n",
    "psa_full.plot(filename=plotname, linkage=linkage);"
   ]
  },
  {
   "cell_type": "code",
   "execution_count": 153,
   "metadata": {
    "collapsed": true
   },
   "outputs": [],
   "source": [
    "dh_default = psa_full.D"
   ]
  },
  {
   "cell_type": "markdown",
   "metadata": {},
   "source": [
    "# ============================="
   ]
  },
  {
   "cell_type": "markdown",
   "metadata": {},
   "source": [
    "# Hausdorff"
   ]
  },
  {
   "cell_type": "markdown",
   "metadata": {},
   "source": [
    "## Baseline"
   ]
  },
  {
   "cell_type": "code",
   "execution_count": 16,
   "metadata": {
    "collapsed": false
   },
   "outputs": [
    {
     "name": "stdout",
     "output_type": "stream",
     "text": [
      "3 loops, best of 3: 614 ms per loop\n"
     ]
    }
   ],
   "source": [
    "%timeit -n3 psa_full.run(metric='hausdorff')"
   ]
  },
  {
   "cell_type": "markdown",
   "metadata": {},
   "source": [
    "## Version 0"
   ]
  },
  {
   "cell_type": "code",
   "execution_count": 14,
   "metadata": {
    "collapsed": false
   },
   "outputs": [],
   "source": [
    "# %%cython -f -c=-Ofast -c=-march=native\n",
    "# import numpy as np\n",
    "# cimport numpy as np\n",
    "# from libc.math cimport sqrt\n",
    "# cimport cython\n",
    "\n",
    "def sqnorm(v, axis=None):\n",
    "    return (v*v).sum(axis=axis)\n",
    "\n",
    "def hausdorff_v0(P,Q, N=-1):\n",
    "    if N == -1:\n",
    "        N = P.shape[1] # number of atoms from 2nd dim of P\n",
    "        axis = (1,2)\n",
    "    else:\n",
    "        axis = 1\n",
    "    d = np.array([sqnorm(p - Q, axis) for p in P])\n",
    "    return ( max( np.amax(np.amin(d, axis=0)),             \\\n",
    "                  np.amax(np.amin(d, axis=1)) ) / N  )**0.5"
   ]
  },
  {
   "cell_type": "code",
   "execution_count": 15,
   "metadata": {
    "collapsed": false
   },
   "outputs": [
    {
     "name": "stdout",
     "output_type": "stream",
     "text": [
      "3 loops, best of 3: 605 ms per loop\n"
     ]
    }
   ],
   "source": [
    "%timeit -n3 psa_full.run(metric=hausdorff_v0)"
   ]
  },
  {
   "cell_type": "code",
   "execution_count": 17,
   "metadata": {
    "collapsed": false
   },
   "outputs": [],
   "source": [
    "linkage = 'ward' # 'single' 'complete' 'weighted' 'average'\n",
    "plotname = 'dh_v0_ward_psa-full.pdf'\n",
    "psa_full.plot(filename=plotname, linkage=linkage);"
   ]
  },
  {
   "cell_type": "markdown",
   "metadata": {},
   "source": [
    "## Version 1"
   ]
  },
  {
   "cell_type": "code",
   "execution_count": 21,
   "metadata": {
    "collapsed": false
   },
   "outputs": [],
   "source": [
    "%%cython -f -c=-Ofast -c=-march=native\n",
    "import numpy as np\n",
    "cimport numpy as np\n",
    "# from libc.math cimport sqrt\n",
    "cimport cython\n",
    "\n",
    "def sqnorm(v):\n",
    "    return (v*v).sum(axis=1)\n",
    "\n",
    "def hausdorff_v1(P, Q, N):\n",
    "    d = np.array([sqnorm(p - Q) for p in P])\n",
    "    return ( max( np.amax(np.amin(d, axis=0)),             \\\n",
    "                  np.amax(np.amin(d, axis=1)) ) / N  )**0.5"
   ]
  },
  {
   "cell_type": "code",
   "execution_count": 22,
   "metadata": {
    "collapsed": false
   },
   "outputs": [
    {
     "name": "stdout",
     "output_type": "stream",
     "text": [
      "3 loops, best of 3: 617 ms per loop\n"
     ]
    }
   ],
   "source": [
    "%timeit -n3 psa_full.run(metric=hausdorff_v1)"
   ]
  },
  {
   "cell_type": "code",
   "execution_count": 23,
   "metadata": {
    "collapsed": true
   },
   "outputs": [],
   "source": [
    "linkage = 'ward' # 'single' 'complete' 'weighted' 'average'\n",
    "plotname = 'dh_v1_ward_psa-full.pdf'\n",
    "psa_full.plot(filename=plotname, linkage=linkage);"
   ]
  },
  {
   "cell_type": "markdown",
   "metadata": {},
   "source": [
    "## Version 2"
   ]
  },
  {
   "cell_type": "code",
   "execution_count": 24,
   "metadata": {
    "collapsed": false
   },
   "outputs": [],
   "source": [
    "%%cython -f -c=-Ofast -c=-march=native\n",
    "import numpy as np\n",
    "cimport numpy as np\n",
    "# from libc.math cimport sqrt\n",
    "cimport cython\n",
    "\n",
    "cdef np.ndarray sqnorm(np.ndarray v):\n",
    "    return (v*v).sum(axis=1)\n",
    "\n",
    "def hausdorff_v2(P, Q, N):\n",
    "    d = np.array([sqnorm(p - Q) for p in P])\n",
    "    return ( max( np.amax(np.amin(d, axis=0)),             \\\n",
    "                  np.amax(np.amin(d, axis=1)) ) / N  )**0.5"
   ]
  },
  {
   "cell_type": "code",
   "execution_count": 25,
   "metadata": {
    "collapsed": false
   },
   "outputs": [
    {
     "name": "stdout",
     "output_type": "stream",
     "text": [
      "3 loops, best of 3: 607 ms per loop\n"
     ]
    }
   ],
   "source": [
    "%timeit -n3 psa_full.run(metric=hausdorff_v2)"
   ]
  },
  {
   "cell_type": "code",
   "execution_count": 26,
   "metadata": {
    "collapsed": true
   },
   "outputs": [],
   "source": [
    "linkage = 'ward' # 'single' 'complete' 'weighted' 'average'\n",
    "plotname = 'dh_v2_ward_psa-full.pdf'\n",
    "psa_full.plot(filename=plotname, linkage=linkage);"
   ]
  },
  {
   "cell_type": "markdown",
   "metadata": {},
   "source": [
    "## Version 3\n",
    "\n",
    "sqnorm using numpy.sum()"
   ]
  },
  {
   "cell_type": "code",
   "execution_count": 88,
   "metadata": {
    "collapsed": false
   },
   "outputs": [],
   "source": [
    "%%cython -f -c=-Ofast -c=-march=native\n",
    "import numpy as np\n",
    "cimport numpy as np\n",
    "from libc.math cimport sqrt, fmax\n",
    "cimport cython\n",
    "\n",
    "ctypedef float (*fcn_ptr)(np.ndarray, np.ndarray)\n",
    "\n",
    "@cython.boundscheck(False)\n",
    "@cython.wraparound(False)\n",
    "cdef float sqnorm(np.ndarray[float, ndim=1, mode='c'] v1, np.ndarray[float, ndim=1, mode='c'] v2):\n",
    "    cdef np.ndarray[float, ndim=1, mode='c'] diff = v1 - v2\n",
    "    return (diff*diff).sum()\n",
    "\n",
    "@cython.boundscheck(False)\n",
    "@cython.wraparound(False)\n",
    "def hausdorff_v3(np.ndarray[float, ndim=2, mode='c'] P, np.ndarray[float, ndim=2, mode='c'] Q, np.intp_t N):\n",
    "    cdef np.intp_t i, j, lenP, lenQ    \n",
    "    lenP = P.shape[0]\n",
    "    lenQ = Q.shape[0]\n",
    "    \n",
    "    cdef np.ndarray[float, ndim=2, mode='c'] d = np.empty((lenP, lenQ), dtype='float32')\n",
    "    cdef fcn_ptr f = &sqnorm\n",
    "    \n",
    "    for i in xrange(lenP):\n",
    "        for j in xrange(lenQ):\n",
    "            d[i,j] = f(P[i], Q[j])\n",
    "    return sqrt( fmax( np.amax(np.amin(d, axis=0)),             \\\n",
    "                  np.amax(np.amin(d, axis=1)) ) / N  )"
   ]
  },
  {
   "cell_type": "code",
   "execution_count": 89,
   "metadata": {
    "collapsed": false
   },
   "outputs": [
    {
     "name": "stdout",
     "output_type": "stream",
     "text": [
      "1 loops, best of 3: 3.81 s per loop\n"
     ]
    }
   ],
   "source": [
    "%timeit -n1 psa_full.run(metric=hausdorff_v3)"
   ]
  },
  {
   "cell_type": "markdown",
   "metadata": {},
   "source": [
    "**Note:** This is VERY slow compared to other solutions because the element-wise subtraction is happening with NumPy and cannot be fully converted to fast C code. Using the '-a' option with the %%cython command highlights the lines in sqnorm as not-very-Cythonic."
   ]
  },
  {
   "cell_type": "code",
   "execution_count": 32,
   "metadata": {
    "collapsed": true
   },
   "outputs": [],
   "source": [
    "linkage = 'ward' # 'single' 'complete' 'weighted' 'average'\n",
    "plotname = 'dh_v3_ward_psa-full.pdf'\n",
    "psa_full.plot(filename=plotname, linkage=linkage);"
   ]
  },
  {
   "cell_type": "markdown",
   "metadata": {},
   "source": [
    "## Version 3b\n",
    "\n",
    "sqnorm using explicit loop"
   ]
  },
  {
   "cell_type": "code",
   "execution_count": 91,
   "metadata": {
    "collapsed": false
   },
   "outputs": [],
   "source": [
    "%%cython -f -c=-Ofast -c=-march=native\n",
    "import numpy as np\n",
    "cimport numpy as np\n",
    "from libc.math cimport sqrt, fmax\n",
    "cimport cython\n",
    "\n",
    "ctypedef float (*fcn_ptr)(np.ndarray, np.ndarray)\n",
    "\n",
    "@cython.boundscheck(False)\n",
    "@cython.wraparound(False)\n",
    "cdef float sqnorm(np.ndarray[float, ndim=1, mode='c'] v1, np.ndarray[float, ndim=1, mode='c'] v2):\n",
    "    cdef float diff, s\n",
    "    cdef np.intp_t k\n",
    "    s = 0.0\n",
    "    for k in xrange(v1.shape[0]):\n",
    "        diff = v1[k] - v2[k]\n",
    "        s += diff*diff\n",
    "    return s\n",
    "\n",
    "@cython.boundscheck(False)\n",
    "@cython.wraparound(False)\n",
    "def hausdorff_v3b(np.ndarray[float, ndim=2, mode='c'] P, np.ndarray[float, ndim=2, mode='c'] Q, np.intp_t N):\n",
    "    cdef np.intp_t i, j, lenP, lenQ    \n",
    "    lenP = P.shape[0]\n",
    "    lenQ = Q.shape[0]\n",
    "    \n",
    "    cdef np.ndarray[float, ndim=2, mode='c'] d = np.empty((lenP, lenQ), dtype='float32')\n",
    "    cdef fcn_ptr f = &sqnorm\n",
    "    \n",
    "    for i in xrange(lenP):\n",
    "        for j in xrange(lenQ):\n",
    "            d[i,j] = f(P[i], Q[j])\n",
    "    return sqrt( fmax( np.amax(np.amin(d, axis=0)),             \\\n",
    "                  np.amax(np.amin(d, axis=1)) ) / N  )"
   ]
  },
  {
   "cell_type": "code",
   "execution_count": 92,
   "metadata": {
    "collapsed": false
   },
   "outputs": [
    {
     "name": "stdout",
     "output_type": "stream",
     "text": [
      "1 loops, best of 3: 877 ms per loop\n"
     ]
    }
   ],
   "source": [
    "%timeit -n1 psa_full.run(metric=hausdorff_v3b)"
   ]
  },
  {
   "cell_type": "code",
   "execution_count": 93,
   "metadata": {
    "collapsed": true
   },
   "outputs": [],
   "source": [
    "linkage = 'ward' # 'single' 'complete' 'weighted' 'average'\n",
    "plotname = 'dh_v3b_ward_psa-full.pdf'\n",
    "psa_full.plot(filename=plotname, linkage=linkage);"
   ]
  },
  {
   "cell_type": "markdown",
   "metadata": {},
   "source": [
    "## Version 4\n",
    "\n",
    "Memviews, Cython RMSD, NumPy min/max + NO decorators"
   ]
  },
  {
   "cell_type": "code",
   "execution_count": 94,
   "metadata": {
    "collapsed": false
   },
   "outputs": [],
   "source": [
    "%%cython -f -c=-Ofast -c=-march=native\n",
    "import numpy as np\n",
    "cimport numpy as np\n",
    "from libc.math cimport sqrt, fmax\n",
    "cimport cython\n",
    "\n",
    "cdef float sqnorm(float[:] p, float[:] q):\n",
    "    cdef np.intp_t i\n",
    "    cdef float s, temp\n",
    "    s = 0.0\n",
    "    for i in xrange(p.shape[0]):\n",
    "        temp = p[i] - q[i]\n",
    "        s += temp*temp\n",
    "    return s \n",
    "\n",
    "def hausdorff_v4(float[:,:] P, float[:,:] Q, np.intp_t N):\n",
    "    cdef np.intp_t i, j, lenP, lenQ    \n",
    "    lenP = P.shape[0]\n",
    "    lenQ = Q.shape[0]\n",
    "    \n",
    "    cdef float[:,:] d = np.empty((lenP, lenQ), dtype='float32')\n",
    "    \n",
    "    for i in xrange(lenP):\n",
    "        for j in xrange(lenQ):\n",
    "            d[i,j] = sqnorm(P[i], Q[j])\n",
    "    return sqrt( fmax( np.amax(np.amin(d, axis=0)),             \\\n",
    "                  np.amax(np.amin(d, axis=1)) ) / N  )"
   ]
  },
  {
   "cell_type": "code",
   "execution_count": 95,
   "metadata": {
    "collapsed": false
   },
   "outputs": [
    {
     "name": "stdout",
     "output_type": "stream",
     "text": [
      "3 loops, best of 3: 788 ms per loop\n"
     ]
    }
   ],
   "source": [
    "%timeit -n3 psa_full.run(metric=hausdorff_v4)"
   ]
  },
  {
   "cell_type": "code",
   "execution_count": 96,
   "metadata": {
    "collapsed": true
   },
   "outputs": [],
   "source": [
    "linkage = 'ward' # 'single' 'complete' 'weighted' 'average'\n",
    "plotname = 'dh_v4_ward_psa-full.pdf'\n",
    "psa_full.plot(filename=plotname, linkage=linkage);"
   ]
  },
  {
   "cell_type": "markdown",
   "metadata": {},
   "source": [
    "## Version 4b\n",
    "\n",
    "Memviews, Cython RMSD, NumPy min/max + decorators"
   ]
  },
  {
   "cell_type": "code",
   "execution_count": 97,
   "metadata": {
    "collapsed": false
   },
   "outputs": [],
   "source": [
    "%%cython -f -c=-Ofast -c=-march=native\n",
    "import numpy as np\n",
    "cimport numpy as np\n",
    "from libc.math cimport sqrt, fmax\n",
    "cimport cython\n",
    "\n",
    "@cython.boundscheck(False)\n",
    "@cython.wraparound(False)\n",
    "cdef float sqnorm(float[:] p, float[:] q):\n",
    "    cdef np.intp_t i\n",
    "    cdef float s, temp\n",
    "    s = 0.0\n",
    "    for i in xrange(p.shape[0]):\n",
    "        temp = p[i] - q[i]\n",
    "        s += temp*temp\n",
    "    return s \n",
    "\n",
    "def hausdorff_v4b(float[:,:] P, float[:,:] Q, np.intp_t N):\n",
    "    cdef np.intp_t i, j, lenP, lenQ\n",
    "    lenP = P.shape[0]\n",
    "    lenQ = Q.shape[0]\n",
    "    \n",
    "    cdef float[:,:] d = np.empty((lenP, lenQ), dtype='float32')\n",
    "    \n",
    "    for i in xrange(lenP):\n",
    "        for j in xrange(lenQ):\n",
    "            d[i,j] = sqnorm(P[i], Q[j])\n",
    "    return sqrt( fmax( np.amax(np.amin(d, axis=0)),             \\\n",
    "                  np.amax(np.amin(d, axis=1)) ) / N  )"
   ]
  },
  {
   "cell_type": "code",
   "execution_count": 98,
   "metadata": {
    "collapsed": false
   },
   "outputs": [
    {
     "name": "stdout",
     "output_type": "stream",
     "text": [
      "3 loops, best of 3: 365 ms per loop\n"
     ]
    }
   ],
   "source": [
    "%timeit -n3 psa_full.run(metric=hausdorff_v4b)"
   ]
  },
  {
   "cell_type": "code",
   "execution_count": 99,
   "metadata": {
    "collapsed": true
   },
   "outputs": [],
   "source": [
    "linkage = 'ward' # 'single' 'complete' 'weighted' 'average'\n",
    "plotname = 'dh_v4b_ward_psa-full.pdf'\n",
    "psa_full.plot(filename=plotname, linkage=linkage);"
   ]
  },
  {
   "cell_type": "markdown",
   "metadata": {},
   "source": [
    "## Version 5\n",
    "\n",
    "Memviews, Cython RMSD, NumPy min/max + C-ordered arrays\n",
    "(sqnorm pointed doesn't add much speed)"
   ]
  },
  {
   "cell_type": "code",
   "execution_count": 83,
   "metadata": {
    "collapsed": false
   },
   "outputs": [],
   "source": [
    "%%cython -f -c=-O3 -c=-march=native -c=-funroll-loops -c=-ffast-math\n",
    "import numpy as np\n",
    "cimport numpy as np\n",
    "from libc.math cimport sqrt, fmax\n",
    "import cython\n",
    "cimport cython\n",
    "\n",
    "ctypedef float (*fcn_ptr)(float[::1], float[::1])\n",
    "\n",
    "@cython.boundscheck(False)\n",
    "@cython.wraparound(False)\n",
    "cdef float sqnorm(float[::1] p, float[::1] q):\n",
    "    cdef np.intp_t k\n",
    "    cdef float s, temp\n",
    "    s = 0.0\n",
    "    for k in xrange(p.shape[0]):\n",
    "        temp = p[k] - q[k]\n",
    "        s += temp*temp\n",
    "    return s\n",
    "        \n",
    "@cython.boundscheck(False)\n",
    "@cython.wraparound(False)\n",
    "def hausdorff_v5(float[:,::1] P, float[:,::1] Q, np.intp_t N):\n",
    "    cdef np.intp_t i, j, lenP, lenQ    \n",
    "    lenP = P.shape[0]\n",
    "    lenQ = Q.shape[0]\n",
    "    \n",
    "    cdef float[:,::1] d = np.empty((lenP, lenQ), dtype='float32')\n",
    "    cdef fcn_ptr f = &sqnorm\n",
    "    \n",
    "    for i in xrange(lenP):\n",
    "        for j in xrange(lenQ):\n",
    "            d[i,j] = f(P[i,:], Q[j,:])\n",
    "    return sqrt( fmax( np.amax(np.amin(d, axis=0)),             \\\n",
    "                  np.amax(np.amin(d, axis=1)) ) / N  )"
   ]
  },
  {
   "cell_type": "code",
   "execution_count": 84,
   "metadata": {
    "collapsed": false
   },
   "outputs": [
    {
     "name": "stdout",
     "output_type": "stream",
     "text": [
      "10 loops, best of 3: 146 ms per loop\n"
     ]
    }
   ],
   "source": [
    "%timeit -n10 psa_full.run(metric=hausdorff_v5)"
   ]
  },
  {
   "cell_type": "code",
   "execution_count": 74,
   "metadata": {
    "collapsed": true
   },
   "outputs": [],
   "source": [
    "linkage = 'ward' # 'single' 'complete' 'weighted' 'average'\n",
    "plotname = 'dh_v5_ward_psa-full.pdf'\n",
    "psa_full.plot(filename=plotname, linkage=linkage);"
   ]
  },
  {
   "cell_type": "markdown",
   "metadata": {},
   "source": [
    "## Version 6"
   ]
  },
  {
   "cell_type": "code",
   "execution_count": 106,
   "metadata": {
    "collapsed": false
   },
   "outputs": [],
   "source": [
    "%%cython -f -c=-Ofast -c=-march=native\n",
    "import numpy as np\n",
    "cimport numpy as np\n",
    "from libc.math cimport sqrt, fmax, fmin\n",
    "import cython\n",
    "cimport cython\n",
    "\n",
    "ctypedef float[::1] (*minfcn_ptr)(float[:,::1])\n",
    "ctypedef float (*maxfcn_ptr)(float[::1])\n",
    "\n",
    "@cython.boundscheck(False)\n",
    "@cython.wraparound(False)\n",
    "cdef float[::1] getmin(float[:,::1] d):\n",
    "    cdef np.intp_t i, j\n",
    "    cdef float[::1] d_row = np.empty(d.shape[1], dtype='float32')\n",
    "    cdef float[::1] rowmin = np.empty(d.shape[0], dtype='float32')\n",
    "    cdef float m = 10000000\n",
    "    \n",
    "    for i in xrange(d.shape[0]):\n",
    "        d_row = d[i,:]\n",
    "        for j in xrange(d.shape[1]):\n",
    "            m = fmin(d_row[j], m)\n",
    "        rowmin[i] = m\n",
    "    return rowmin\n",
    "\n",
    "@cython.boundscheck(False)\n",
    "@cython.wraparound(False)\n",
    "cdef float getmax(float[::1] d):\n",
    "    cdef np.intp_t i\n",
    "    cdef float m = -1\n",
    "    \n",
    "    for i in xrange(d.shape[0]):\n",
    "        m = fmax(d[i], m)\n",
    "    return m\n",
    "\n",
    "@cython.boundscheck(False)\n",
    "@cython.wraparound(False)\n",
    "def hausdorff_v6(float[:,::1] P, float[:,::1] Q, np.intp_t N):\n",
    "    cdef np.intp_t i, j, k, lenP, lenQ    \n",
    "    lenP = P.shape[0]\n",
    "    lenQ = Q.shape[0]\n",
    "\n",
    "    assert int(P.shape[1]) == int(3*N)\n",
    "    assert P.shape[1] == Q.shape[1]\n",
    "    \n",
    "    cdef float[:,::1] d = np.empty((lenP, lenQ), dtype='float32')\n",
    "    cdef float s, diff = 0.0\n",
    "    cdef minfcn_ptr minf = &getmin\n",
    "    cdef maxfcn_ptr maxf = &getmax\n",
    "    \n",
    "    for i in xrange(lenP):\n",
    "        for j in xrange(lenQ):\n",
    "            s = 0.0\n",
    "            for k in xrange(P.shape[1]):\n",
    "                diff = P[i,k] - Q[j,k]\n",
    "                s += diff*diff\n",
    "            d[i,j] = s\n",
    "\n",
    "#     return sqrt( fmax( maxf(minf(d)), maxf(np.amin(d, axis=1)) ) / N  )\n",
    "#     return sqrt( fmax( maxf(minf(d)), maxf(minf(d.T)) ) / N  )\n",
    "    return sqrt( fmax( np.amax(np.amin(d, axis=0)), np.amax(np.amin(d, axis=1)) ) / N  )"
   ]
  },
  {
   "cell_type": "code",
   "execution_count": 95,
   "metadata": {
    "collapsed": false
   },
   "outputs": [
    {
     "name": "stdout",
     "output_type": "stream",
     "text": [
      "10 loops, best of 3: 120 ms per loop\n"
     ]
    }
   ],
   "source": [
    "%timeit -n10 psa_full.run(metric=hausdorff_v6)"
   ]
  },
  {
   "cell_type": "markdown",
   "metadata": {},
   "source": [
    "The custom Cython functions are as fast as the numpy.amax/amin solution"
   ]
  },
  {
   "cell_type": "code",
   "execution_count": 90,
   "metadata": {
    "collapsed": false
   },
   "outputs": [],
   "source": [
    "linkage = 'ward' # 'single' 'complete' 'weighted' 'average'\n",
    "plotname = 'dh_v6_ward_psa-full.pdf'\n",
    "psa_full.plot(filename=plotname, linkage=linkage);"
   ]
  },
  {
   "cell_type": "markdown",
   "metadata": {},
   "source": [
    "# Frechet"
   ]
  },
  {
   "cell_type": "markdown",
   "metadata": {},
   "source": [
    "## Baseline"
   ]
  },
  {
   "cell_type": "code",
   "execution_count": 119,
   "metadata": {
    "collapsed": false
   },
   "outputs": [
    {
     "name": "stdout",
     "output_type": "stream",
     "text": [
      "3 loops, best of 3: 3.01 s per loop\n"
     ]
    }
   ],
   "source": [
    "%timeit -n3 psa_full.run(metric='discrete_frechet')"
   ]
  },
  {
   "cell_type": "markdown",
   "metadata": {},
   "source": [
    "## Version 1"
   ]
  },
  {
   "cell_type": "code",
   "execution_count": 97,
   "metadata": {
    "collapsed": false
   },
   "outputs": [],
   "source": [
    "%%cython -f -c=-Ofast -c=-march=native\n",
    "import numpy as np\n",
    "cimport numpy as np\n",
    "# from libc.math cimport sqrt\n",
    "cimport cython\n",
    "\n",
    "def sqnorm(v):\n",
    "    return (v*v).sum(axis=1)\n",
    "\n",
    "def frechet_v1(P, Q, N):\n",
    "    Np, Nq = len(P), len(Q)\n",
    "    d = np.array([sqnorm(p - Q) for p in P])\n",
    "    ca = -np.ones((Np, Nq))\n",
    "    \n",
    "    def c(i, j):\n",
    "        if ca[i,j] != -1 : return ca[i,j]\n",
    "        if i > 0:\n",
    "            if j > 0: ca[i,j] = max( min(c(i-1,j),c(i,j-1),c(i-1,j-1)), d[i,j] )\n",
    "            else:     ca[i,j] = max( c(i-1,0), d[i,0] )\n",
    "        elif j > 0:   ca[i,j] = max( c(0,j-1), d[0,j] )\n",
    "        else:         ca[i,j] = d[0,0]\n",
    "        return        ca[i,j]\n",
    "\n",
    "    return ( c(Np-1, Nq-1) / N )**0.5"
   ]
  },
  {
   "cell_type": "code",
   "execution_count": 98,
   "metadata": {
    "collapsed": false
   },
   "outputs": [
    {
     "name": "stdout",
     "output_type": "stream",
     "text": [
      "3 loops, best of 3: 2.4 s per loop\n"
     ]
    }
   ],
   "source": [
    "%timeit -n3 psa_full.run(metric=frechet_v1)"
   ]
  },
  {
   "cell_type": "code",
   "execution_count": 99,
   "metadata": {
    "collapsed": true
   },
   "outputs": [],
   "source": [
    "linkage = 'ward' # 'single' 'complete' 'weighted' 'average'\n",
    "plotname = 'df_v1_ward_psa-full.pdf'\n",
    "psa_full.plot(filename=plotname, linkage=linkage);"
   ]
  },
  {
   "cell_type": "markdown",
   "metadata": {},
   "source": [
    "## Version 2"
   ]
  },
  {
   "cell_type": "code",
   "execution_count": 100,
   "metadata": {
    "collapsed": false
   },
   "outputs": [],
   "source": [
    "%%cython -f -c=-Ofast -c=-march=native\n",
    "import numpy as np\n",
    "cimport numpy as np\n",
    "# from libc.math cimport sqrt\n",
    "cimport cython\n",
    "\n",
    "cdef np.ndarray sqnorm(np.ndarray v):\n",
    "    return (v*v).sum(axis=1)\n",
    "\n",
    "def frechet_v2(P, Q, N):\n",
    "    Np, Nq = len(P), len(Q)\n",
    "    d = np.array([sqnorm(p - Q) for p in P])\n",
    "    ca = -np.ones((Np, Nq))\n",
    "    \n",
    "    def c(i, j):\n",
    "        if ca[i,j] != -1 : return ca[i,j]\n",
    "        if i > 0:\n",
    "            if j > 0: ca[i,j] = max( min(c(i-1,j),c(i,j-1),c(i-1,j-1)), d[i,j] )\n",
    "            else:     ca[i,j] = max( c(i-1,0), d[i,0] )\n",
    "        elif j > 0:   ca[i,j] = max( c(0,j-1), d[0,j] )\n",
    "        else:         ca[i,j] = d[0,0]\n",
    "        return        ca[i,j]\n",
    "\n",
    "    return ( c(Np-1, Nq-1) / N )**0.5"
   ]
  },
  {
   "cell_type": "code",
   "execution_count": 101,
   "metadata": {
    "collapsed": false
   },
   "outputs": [
    {
     "name": "stdout",
     "output_type": "stream",
     "text": [
      "3 loops, best of 3: 2.43 s per loop\n"
     ]
    }
   ],
   "source": [
    "%timeit -n3 psa_full.run(metric=frechet_v2)"
   ]
  },
  {
   "cell_type": "code",
   "execution_count": 102,
   "metadata": {
    "collapsed": true
   },
   "outputs": [],
   "source": [
    "linkage = 'ward' # 'single' 'complete' 'weighted' 'average'\n",
    "plotname = 'df_v2_ward_psa-full.pdf'\n",
    "psa_full.plot(filename=plotname, linkage=linkage);"
   ]
  },
  {
   "cell_type": "markdown",
   "metadata": {},
   "source": [
    "## Version 3"
   ]
  },
  {
   "cell_type": "code",
   "execution_count": 108,
   "metadata": {
    "collapsed": false
   },
   "outputs": [],
   "source": [
    "%%cython -f -c=-Ofast -c=-march=native\n",
    "import numpy as np\n",
    "cimport numpy as np\n",
    "from libc.math cimport sqrt\n",
    "cimport cython\n",
    "\n",
    "cdef float sqnorm(np.ndarray[float, ndim=1, mode='c'] v):\n",
    "    return (v*v).sum()\n",
    "\n",
    "def frechet_v3(np.ndarray[float, ndim=2, mode='c'] P, np.ndarray[float, ndim=2, mode='c'] Q, np.uint32_t N):\n",
    "    cdef np.intp_t lenP, lenQ, i, j\n",
    "    \n",
    "    lenP = P.shape[0]\n",
    "    lenQ = Q.shape[0]\n",
    "    \n",
    "    cdef np.ndarray[float, ndim=1, mode='c'] temp\n",
    "    cdef np.ndarray[float, ndim=2, mode='c'] d = np.empty((lenP, lenQ), dtype='float32')\n",
    "    cdef np.ndarray[float, ndim=2, mode='c'] ca = -np.ones((lenP, lenQ), dtype='float32')\n",
    "    \n",
    "    for i in xrange(lenP):\n",
    "        for j in xrange(lenQ):\n",
    "            temp = P[i]-Q[j]\n",
    "            d[i,j] = sqnorm(temp)\n",
    "\n",
    "    def c(np.ndarray[float, ndim=2, mode='c'] d, np.ndarray[float, ndim=2, mode='c'] ca, np.intp_t i, np.intp_t j):\n",
    "        if ca[i,j] != -1 : return ca[i,j]\n",
    "        if i > 0:\n",
    "            if j > 0: ca[i,j] = max( min(c(d,ca,i-1,j),c(d,ca,i,j-1),c(d,ca,i-1,j-1)), d[i,j] )\n",
    "            else:     ca[i,j] = max( c(d,ca,i-1,0), d[i,0] )\n",
    "        elif j > 0:   ca[i,j] = max( c(d,ca,0,j-1), d[0,j] )\n",
    "        else:         ca[i,j] = d[0,0]\n",
    "        return        ca[i,j]\n",
    "\n",
    "    return sqrt( c(d, ca, lenP-1, lenQ-1) / N )"
   ]
  },
  {
   "cell_type": "code",
   "execution_count": 109,
   "metadata": {
    "collapsed": false
   },
   "outputs": [
    {
     "name": "stdout",
     "output_type": "stream",
     "text": [
      "1 loops, best of 3: 4.59 s per loop\n"
     ]
    }
   ],
   "source": [
    "%timeit -n1 psa_full.run(metric=frechet_v3)"
   ]
  },
  {
   "cell_type": "code",
   "execution_count": 59,
   "metadata": {
    "collapsed": true
   },
   "outputs": [],
   "source": [
    "linkage = 'ward' # 'single' 'complete' 'weighted' 'average'\n",
    "plotname = 'df_v3_ward_psa-full.pdf'\n",
    "psa_full.plot(filename=plotname, linkage=linkage);"
   ]
  },
  {
   "cell_type": "markdown",
   "metadata": {},
   "source": [
    "## Version 4"
   ]
  },
  {
   "cell_type": "code",
   "execution_count": 112,
   "metadata": {
    "collapsed": false
   },
   "outputs": [],
   "source": [
    "%%cython -f -c=-Ofast -c=-march=native\n",
    "import numpy as np\n",
    "cimport numpy as np\n",
    "from libc.math cimport fmin, fmax, sqrt\n",
    "cimport cython\n",
    "\n",
    "\n",
    "cdef float sqnorm(np.ndarray[float, ndim=1, mode='c'] v):\n",
    "    return (v*v).sum()\n",
    "\n",
    "\n",
    "cdef float c(np.ndarray[float, ndim=2, mode='c'] d, np.ndarray[float, ndim=2, mode='c'] ca, np.intp_t i, np.intp_t j):\n",
    "    if ca[i,j] != -1 : return ca[i,j]\n",
    "    if i > 0:\n",
    "        if j > 0: ca[i,j] = fmax( fmin(fmin(c(d,ca,i-1,j),c(d,ca,i,j-1)),c(d,ca,i-1,j-1)), d[i,j] )\n",
    "        else:     ca[i,j] = fmax( c(d,ca,i-1,0), d[i,0] )\n",
    "    elif j > 0:   ca[i,j] = fmax( c(d,ca,0,j-1), d[0,j] )\n",
    "    else:         ca[i,j] = d[0,0]\n",
    "    return        ca[i,j]\n",
    "\n",
    "\n",
    "def frechet_v4(np.ndarray[float, ndim=2, mode='c'] P, np.ndarray[float, ndim=2, mode='c'] Q, np.uint32_t N):\n",
    "    cdef np.intp_t lenP, lenQ, i, j\n",
    "    \n",
    "    lenP = P.shape[0]\n",
    "    lenQ = Q.shape[0]\n",
    "    \n",
    "    cdef np.ndarray[float, ndim=1, mode='c'] temp\n",
    "    cdef np.ndarray[float, ndim=2, mode='c'] d = np.empty((lenP, lenQ), dtype='float32')\n",
    "    cdef np.ndarray[float, ndim=2, mode='c'] ca = -np.ones((lenP, lenQ), dtype='float32')\n",
    "    \n",
    "    for i in xrange(lenP):\n",
    "        for j in xrange(lenQ):\n",
    "            temp = P[i]-Q[j]\n",
    "            d[i,j] = sqnorm(temp)\n",
    "\n",
    "    return sqrt( c(d, ca, lenP-1, lenQ-1) / N )"
   ]
  },
  {
   "cell_type": "code",
   "execution_count": 113,
   "metadata": {
    "collapsed": false
   },
   "outputs": [
    {
     "name": "stdout",
     "output_type": "stream",
     "text": [
      "1 loops, best of 2: 4.58 s per loop\n"
     ]
    }
   ],
   "source": [
    "%timeit -n1 -r2 psa_full.run(metric=frechet_v4)"
   ]
  },
  {
   "cell_type": "code",
   "execution_count": 65,
   "metadata": {
    "collapsed": true
   },
   "outputs": [],
   "source": [
    "linkage = 'ward' # 'single' 'complete' 'weighted' 'average'\n",
    "plotname = 'df_v4_ward_psa-full.pdf'\n",
    "psa_full.plot(filename=plotname, linkage=linkage);"
   ]
  },
  {
   "cell_type": "markdown",
   "metadata": {},
   "source": [
    "## Version 5"
   ]
  },
  {
   "cell_type": "code",
   "execution_count": 114,
   "metadata": {
    "collapsed": false
   },
   "outputs": [],
   "source": [
    "%%cython -f -c=-Ofast -c=-march=native\n",
    "import numpy as np\n",
    "cimport numpy as np\n",
    "from libc.math cimport fmin, fmax, sqrt\n",
    "cimport cython\n",
    "\n",
    "@cython.boundscheck(False)\n",
    "@cython.wraparound(False)\n",
    "cdef float sqnorm(float[::1] p, float[::1] q):\n",
    "    cdef np.intp_t i\n",
    "    cdef float s, temp\n",
    "    s = 0.0\n",
    "    for i in xrange(p.shape[0]):\n",
    "        temp = p[i] - q[i]\n",
    "        s += temp*temp\n",
    "    return s\n",
    "\n",
    "@cython.boundscheck(False)\n",
    "@cython.wraparound(False)\n",
    "cdef float c(float[:,::1] d, float[:,::1] ca, np.intp_t i, np.intp_t j):\n",
    "    if ca[i,j] != -1 : return ca[i,j]\n",
    "    if i > 0:\n",
    "        if j > 0: ca[i,j] = fmax( fmin(fmin(c(d,ca,i-1,j),c(d,ca,i,j-1)),c(d,ca,i-1,j-1)), d[i,j] )\n",
    "        else:     ca[i,j] = fmax( c(d,ca,i-1,0), d[i,0] )\n",
    "    elif j > 0:   ca[i,j] = fmax( c(d,ca,0,j-1), d[0,j] )\n",
    "    else:         ca[i,j] = d[0,0]\n",
    "    return        ca[i,j]\n",
    "\n",
    "\n",
    "@cython.boundscheck(False)\n",
    "@cython.wraparound(False)\n",
    "def frechet_v5(float[:,::1] P, float[:,::1] Q, np.intp_t N):\n",
    "    cdef np.intp_t lenP, lenQ, i, j\n",
    "    \n",
    "    lenP = P.shape[0]\n",
    "    lenQ = Q.shape[0]\n",
    "    \n",
    "    cdef float[:,::1] d = np.empty((lenP, lenQ), dtype='float32')\n",
    "    cdef float[:,::1] ca = -np.ones((lenP, lenQ), dtype='float32')\n",
    "\n",
    "    for i in xrange(lenP):\n",
    "        for j in xrange(lenQ):\n",
    "            d[i,j] = sqnorm(P[i], Q[j])\n",
    "\n",
    "    return sqrt( c(d, ca, lenP-1, lenQ-1) / N )"
   ]
  },
  {
   "cell_type": "code",
   "execution_count": 115,
   "metadata": {
    "collapsed": false
   },
   "outputs": [
    {
     "name": "stdout",
     "output_type": "stream",
     "text": [
      "3 loops, best of 3: 215 ms per loop\n"
     ]
    }
   ],
   "source": [
    "%timeit -n3 psa_full.run(metric=frechet_v5)"
   ]
  },
  {
   "cell_type": "code",
   "execution_count": 82,
   "metadata": {
    "collapsed": true
   },
   "outputs": [],
   "source": [
    "linkage = 'ward' # 'single' 'complete' 'weighted' 'average'\n",
    "plotname = 'df_v5_ward_psa-full.pdf'\n",
    "psa_full.plot(filename=plotname, linkage=linkage);"
   ]
  },
  {
   "cell_type": "markdown",
   "metadata": {},
   "source": [
    "## Version 6"
   ]
  },
  {
   "cell_type": "code",
   "execution_count": 93,
   "metadata": {
    "collapsed": false
   },
   "outputs": [],
   "source": [
    "%%cython -f -c=-Ofast -c=-march=native\n",
    "import numpy as np\n",
    "cimport numpy as np\n",
    "from libc.math cimport fmin, fmax, sqrt\n",
    "cimport cython\n",
    "\n",
    "@cython.boundscheck(False)\n",
    "@cython.wraparound(False)\n",
    "cdef float sqnorm(float[::1] p, float[::1] q):\n",
    "    cdef np.intp_t i\n",
    "    cdef float s, temp\n",
    "    s = 0.0\n",
    "    for i in xrange(p.shape[0]):\n",
    "        temp = p[i] - q[i]\n",
    "        s += temp*temp\n",
    "    return s\n",
    "\n",
    "@cython.boundscheck(False)\n",
    "@cython.wraparound(False)\n",
    "cdef float c(float[:,::1] d, float[:,::1] ca, np.intp_t i, np.intp_t j):\n",
    "    if ca[i,j] != -1 : return ca[i,j]\n",
    "    if i > 0:\n",
    "        if j > 0: ca[i,j] = fmax( fmin(fmin(c(d,ca,i-1,j),c(d,ca,i,j-1)),c(d,ca,i-1,j-1)), d[i,j] )\n",
    "        else:     ca[i,j] = fmax( c(d,ca,i-1,0), d[i,0] )\n",
    "    elif j > 0:   ca[i,j] = fmax( c(d,ca,0,j-1), d[0,j] )\n",
    "    else:         ca[i,j] = d[0,0]\n",
    "    return        ca[i,j]\n",
    "\n",
    "\n",
    "@cython.boundscheck(False)\n",
    "@cython.wraparound(False)\n",
    "def frechet_v6(float[:,::1] P, float[:,::1] Q, np.intp_t N):\n",
    "    cdef np.intp_t lenP, lenQ, i, j\n",
    "    \n",
    "    lenP = P.shape[0]\n",
    "    lenQ = Q.shape[0]\n",
    "    N = P.shape[1] # Check that Q.shape[1] is the same!\n",
    "    \n",
    "    cdef float[:,::1] d = np.empty((lenP, lenQ), dtype='float32')\n",
    "    cdef float[:,::1] ca = -np.ones((lenP, lenQ), dtype='float32')\n",
    "\n",
    "    for i in xrange(lenP):\n",
    "        for j in xrange(lenQ):\n",
    "            d[i,j] = sqnorm(P[i], Q[j])\n",
    "\n",
    "    return sqrt( c(d, ca, lenP-1, lenQ-1) / N )"
   ]
  },
  {
   "cell_type": "code",
   "execution_count": 89,
   "metadata": {
    "collapsed": false
   },
   "outputs": [
    {
     "name": "stdout",
     "output_type": "stream",
     "text": [
      "3 loops, best of 3: 209 ms per loop\n"
     ]
    }
   ],
   "source": [
    "%timeit -n10 psa_full.run(metric=frechet_v6)"
   ]
  },
  {
   "cell_type": "code",
   "execution_count": 82,
   "metadata": {
    "collapsed": true
   },
   "outputs": [],
   "source": [
    "linkage = 'ward' # 'single' 'complete' 'weighted' 'average'\n",
    "plotname = 'df_v6_ward_psa-full.pdf'\n",
    "psa_full.plot(filename=plotname, linkage=linkage);"
   ]
  },
  {
   "cell_type": "markdown",
   "metadata": {},
   "source": [
    "## Version 6b\n",
    "\n",
    "Reduced memview slices by working directly with P and Q"
   ]
  },
  {
   "cell_type": "code",
   "execution_count": 95,
   "metadata": {
    "collapsed": false
   },
   "outputs": [],
   "source": [
    "%%cython -f -c=-O3 -c=-march=native -c=-funroll-loops -c=-ffast-math\n",
    "import numpy as np\n",
    "cimport numpy as np\n",
    "from libc.math cimport fmin, fmax, sqrt\n",
    "cimport cython\n",
    "\n",
    "ctypedef float (*fcn_ptr)(float[:,::1], float[:,::1], np.intp_t, np.intp_t)\n",
    "\n",
    "@cython.boundscheck(False)\n",
    "@cython.wraparound(False)\n",
    "cdef float c(float[:,::1] d, float[:,::1] ca, np.intp_t i, np.intp_t j):\n",
    "    cdef np.intp_t im1, jm1\n",
    "    im1 = i-1\n",
    "    jm1 = j-1\n",
    "    if ca[i,j] != -1 : return ca[i,j]\n",
    "    if i > 0:\n",
    "        if j > 0: ca[i,j] = fmax( fmin(fmin(c(d,ca,im1,j),c(d,ca,i,jm1)),c(d,ca,im1,jm1)), d[i,j] )\n",
    "        else:     ca[i,j] = fmax( c(d,ca,im1,0), d[i,0] )\n",
    "    elif j > 0:   ca[i,j] = fmax( c(d,ca,0,jm1), d[0,j] )\n",
    "    else:         ca[i,j] = d[0,0]\n",
    "    return        ca[i,j]\n",
    "\n",
    "\n",
    "@cython.boundscheck(False)\n",
    "@cython.wraparound(False)\n",
    "def frechet_v6b(float[:,::1] P, float[:,::1] Q, np.intp_t N):\n",
    "    cdef np.intp_t lenP, lenQ, i, j, k\n",
    "    \n",
    "    lenP = P.shape[0]\n",
    "    lenQ = Q.shape[0]\n",
    "    \n",
    "    cdef float[:,::1] d = np.empty((lenP, lenQ), dtype='float32')\n",
    "    cdef float[:,::1] ca = -np.ones((lenP, lenQ), dtype='float32')\n",
    "    cdef float s, temp\n",
    "    cdef fcn_ptr cf = &c\n",
    "    \n",
    "    for i in xrange(lenP):\n",
    "        for j in xrange(lenQ):\n",
    "            s = 0.0\n",
    "            for k in xrange(P.shape[1]):\n",
    "                temp = P[i,k] - Q[j,k]\n",
    "                s += temp*temp\n",
    "            d[i,j] = s\n",
    "\n",
    "    return sqrt( c(d, ca, lenP-1, lenQ-1) / N )"
   ]
  },
  {
   "cell_type": "code",
   "execution_count": 129,
   "metadata": {
    "collapsed": false
   },
   "outputs": [
    {
     "name": "stdout",
     "output_type": "stream",
     "text": [
      "10 loops, best of 3: 188 ms per loop\n"
     ]
    }
   ],
   "source": [
    "%timeit -n10 psa_full.run(metric=frechet_v6b)"
   ]
  },
  {
   "cell_type": "code",
   "execution_count": 130,
   "metadata": {
    "collapsed": true
   },
   "outputs": [],
   "source": [
    "linkage = 'ward' # 'single' 'complete' 'weighted' 'average'\n",
    "plotname = 'df_v6b_ward_psa-full.pdf'\n",
    "psa_full.plot(filename=plotname, linkage=linkage);"
   ]
  },
  {
   "cell_type": "markdown",
   "metadata": {},
   "source": [
    "# Average Frechet"
   ]
  },
  {
   "cell_type": "code",
   "execution_count": 95,
   "metadata": {
    "collapsed": false
   },
   "outputs": [],
   "source": [
    "%%cython -f -c=-O3 -c=-march=native -c=-funroll-loops -c=-ffast-math\n",
    "import numpy as np\n",
    "cimport numpy as np\n",
    "from libc.math cimport fmin, fmax, sqrt\n",
    "cimport cython\n",
    "\n",
    "ctypedef float (*fcn_ptr)(float[:,::1], float[:,::1], np.intp_t, np.intp_t)\n",
    "\n",
    "@cython.boundscheck(False)\n",
    "@cython.wraparound(False)\n",
    "cdef float c(float[:,::1] d, float[:,::1] ca, np.intp_t i, np.intp_t j):\n",
    "    cdef np.intp_t im1, jm1\n",
    "    im1 = i-1\n",
    "    jm1 = j-1\n",
    "    if ca[i,j] != -1 : return ca[i,j]\n",
    "    if i > 0:\n",
    "        if j > 0: ca[i,j] = fmax( fmin(fmin(c(d,ca,im1,j),c(d,ca,i,jm1)),c(d,ca,im1,jm1)), d[i,j] )\n",
    "        else:     ca[i,j] = fmax( c(d,ca,im1,0), d[i,0] )\n",
    "    elif j > 0:   ca[i,j] = fmax( c(d,ca,0,jm1), d[0,j] )\n",
    "    else:         ca[i,j] = d[0,0]\n",
    "    return        ca[i,j]\n",
    "\n",
    "\n",
    "@cython.boundscheck(False)\n",
    "@cython.wraparound(False)\n",
    "def avg_frechet(float[:,::1] P, float[:,::1] Q, np.intp_t N):\n",
    "    cdef np.intp_t lenP, lenQ, i, j, k\n",
    "    \n",
    "    lenP = P.shape[0]\n",
    "    lenQ = Q.shape[0]\n",
    "    \n",
    "    cdef float[:,::1] d = np.empty((lenP, lenQ), dtype='float32')\n",
    "    cdef float[:,::1] ca = -np.ones((lenP, lenQ), dtype='float32')\n",
    "    cdef float s, temp\n",
    "    cdef fcn_ptr cf = &c\n",
    "    \n",
    "    for i in xrange(lenP):\n",
    "        for j in xrange(lenQ):\n",
    "            s = 0.0\n",
    "            for k in xrange(P.shape[1]):\n",
    "                temp = P[i,k] - Q[j,k]\n",
    "                s += temp*temp\n",
    "            d[i,j] = s\n",
    "\n",
    "    return sqrt( c(d, ca, lenP-1, lenQ-1) / N )"
   ]
  }
 ],
 "metadata": {
  "kernelspec": {
   "display_name": "Python 2",
   "language": "python",
   "name": "python2"
  },
  "language_info": {
   "codemirror_mode": {
    "name": "ipython",
    "version": 2
   },
   "file_extension": ".py",
   "mimetype": "text/x-python",
   "name": "python",
   "nbconvert_exporter": "python",
   "pygments_lexer": "ipython2",
   "version": "2.7.6"
  }
 },
 "nbformat": 4,
 "nbformat_minor": 0
}
