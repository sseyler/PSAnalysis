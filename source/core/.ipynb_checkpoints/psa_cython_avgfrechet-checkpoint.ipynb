{
 "cells": [
  {
   "cell_type": "code",
   "execution_count": 1,
   "metadata": {
    "collapsed": false
   },
   "outputs": [],
   "source": [
    "%load_ext cython\n",
    "%load_ext autoreload\n",
    "%autoreload 2"
   ]
  },
  {
   "cell_type": "code",
   "execution_count": 2,
   "metadata": {
    "collapsed": true
   },
   "outputs": [],
   "source": [
    "from psa import *\n",
    "from MDAnalysis import Universe\n",
    "from MDAnalysis.analysis.align import rotation_matrix\n",
    "import numpy as np\n",
    "import os, sys\n",
    "WORKDIR = '/nfs/homes/sseyler/Repositories/python/psanalysis'\n",
    "sys.path.append(WORKDIR)\n",
    "sys.setrecursionlimit(1000000)"
   ]
  },
  {
   "cell_type": "code",
   "execution_count": 3,
   "metadata": {
    "collapsed": false
   },
   "outputs": [
    {
     "name": "stdout",
     "output_type": "stream",
     "text": [
      "Generating AdK CORE C-alpha reference coords + structure...\n"
     ]
    }
   ],
   "source": [
    "print(\"Generating AdK CORE C-alpha reference coords + structure...\")\n",
    "cref_filename = '%s/structs/1ake_a_ca_core.pdb' % WORKDIR\n",
    "oref_filename = '%s/structs/4ake_a_ca_core.pdb' % WORKDIR\n",
    "\n",
    "c_ref = MDAnalysis.Universe(cref_filename)\n",
    "o_ref = MDAnalysis.Universe(oref_filename)\n",
    "u_ref = MDAnalysis.Universe(cref_filename)\n",
    "\n",
    "c_ref_ca = c_ref.selectAtoms('name CA')\n",
    "o_ref_ca = o_ref.selectAtoms('name CA')\n",
    "\n",
    "adkCORE_resids = \"(resid 1:29 or resid 60:121 or resid 160:214)\"\n",
    "c_ref_CORE_ca = c_ref_ca.selectAtoms(adkCORE_resids).coordinates() \\\n",
    "        - c_ref_ca.selectAtoms(adkCORE_resids).centerOfMass()\n",
    "o_ref_CORE_ca = o_ref_ca.selectAtoms(adkCORE_resids).coordinates() \\\n",
    "        - o_ref_ca.selectAtoms(adkCORE_resids).centerOfMass()\n",
    "ref_coords = 0.5*(c_ref_CORE_ca + o_ref_CORE_ca)\n",
    "\n",
    "u_ref.atoms.translate(-c_ref_ca.selectAtoms(adkCORE_resids).centerOfMass())\n",
    "o_ref.atoms.translate(-o_ref_ca.selectAtoms(adkCORE_resids).centerOfMass())\n",
    "u_ref.selectAtoms(adkCORE_resids).CA.set_positions(ref_coords)"
   ]
  },
  {
   "cell_type": "code",
   "execution_count": 4,
   "metadata": {
    "collapsed": false
   },
   "outputs": [
    {
     "name": "stdout",
     "output_type": "stream",
     "text": [
      "Building collection of simulations...\n"
     ]
    }
   ],
   "source": [
    "print(\"Building collection of simulations...\")\n",
    "# List of method names (same as directory names)\n",
    "# method_names = ['DIMS', 'FRODA', 'MAP']\n",
    "method_names = ['DIMS', 'TMD', 'FRODA', 'MAP', 'iENM', 'MENM-SP', 'MENM-SD',       \\\n",
    "                'MDdMD', 'GOdMD', 'Morph', 'ANMP', 'LinInt']\n",
    "labels = [] # Heat map labels\n",
    "simulations = [] # List of simulation topology/trajectory filename pairs\n",
    "universes = [] # List of MDAnalysis Universes representing simulations\n",
    "\n",
    "# Build list of simulations, each represented by a pair of filenames\n",
    "# ([topology filename], [trajectory filename]). Generate corresponding label\n",
    "# list.\n",
    "for method in method_names:\n",
    "    # Note: DIMS uses the PSF topology format\n",
    "    topname = 'top.psf' if ('DIMS' in method or 'TMD' in method) else 'top.pdb'\n",
    "    pathname = 'path.dcd'\n",
    "    method_dir = '{}/methods/{}'.format(WORKDIR, method)\n",
    "    if method is not 'LinInt':\n",
    "        nruns = 3 if 'TMD' not in method else 3\n",
    "        if 'TMD' in method:\n",
    "            for run in xrange(1, nruns+1): # 3 runs per method\n",
    "                run_dir = '{}/{:03n}'.format(method_dir, run)\n",
    "                topology = '{}/{}'.format(method_dir, topname)\n",
    "                trajectory = '{}/{}'.format(run_dir, pathname)\n",
    "                labels.append(method + '(' + str(run) + ')')\n",
    "                simulations.append((topology, trajectory))\n",
    "        else:\n",
    "            for run in xrange(1, nruns+1): # 3 runs per method\n",
    "                run_dir = '{}/{:03n}'.format(method_dir, run)\n",
    "                topology = '{}/{}'.format(method_dir, topname)\n",
    "                trajectory = '{}/{}'.format(run_dir, pathname)\n",
    "                labels.append(method + '(' + str(run) + ')')\n",
    "                simulations.append((topology, trajectory))\n",
    "    else: # only one LinInt trajectory\n",
    "        topology = '{}/{}'.format(method_dir, topname)\n",
    "        trajectory = '{}/{}'.format(method_dir, pathname)\n",
    "        labels.append(method)\n",
    "        simulations.append((topology, trajectory))"
   ]
  },
  {
   "cell_type": "code",
   "execution_count": 5,
   "metadata": {
    "collapsed": false
   },
   "outputs": [],
   "source": [
    "# Generate simulation list represented as Universes. Each item, sim, in\n",
    "# simulations is a topology/trajectory filename pair that is unpacked into\n",
    "# an argument list with the \"splat\" (\"*\") operator.\n",
    "for sim in simulations:\n",
    "    universes.append(Universe(*sim))"
   ]
  },
  {
   "cell_type": "code",
   "execution_count": 6,
   "metadata": {
    "collapsed": false
   },
   "outputs": [
    {
     "name": "stdout",
     "output_type": "stream",
     "text": [
      "Initializing Path Similarity Analysis...\n"
     ]
    }
   ],
   "source": [
    "print(\"Initializing Path Similarity Analysis...\")\n",
    "ref_selection = \"name CA and \" + adkCORE_resids\n",
    "psa_full = PSA(universes, reference=u_ref, ref_select=ref_selection,\n",
    "                    path_select=\"name CA\", labels=labels)"
   ]
  },
  {
   "cell_type": "code",
   "execution_count": 7,
   "metadata": {
    "collapsed": false
   },
   "outputs": [
    {
     "name": "stderr",
     "output_type": "stream",
     "text": [
      "/nfs/homes/sseyler/.local/lib/python2.7/site-packages/MDAnalysis/analysis/align.py:475: FutureWarning: comparison to `None` will result in an elementwise object comparison in the future.\n",
      "  natoms, rot, weight)\n",
      "Fitted frame   102/102  [100.0%]\n",
      "Fitted frame    92/92  [100.0%]\n",
      "Fitted frame    95/95  [100.0%]\n",
      "Fitted frame   131/131  [100.0%]\n",
      "Fitted frame   131/131  [100.0%]\n",
      "Fitted frame   131/131  [100.0%]\n",
      "Fitted frame   142/142  [100.0%]\n",
      "Fitted frame   141/141  [100.0%]\n",
      "Fitted frame   142/142  [100.0%]\n",
      "Fitted frame   201/201  [100.0%]\n",
      "Fitted frame   201/201  [100.0%]\n",
      "Fitted frame   201/201  [100.0%]\n",
      "Fitted frame    33/33  [100.0%]\n",
      "Fitted frame    34/34  [100.0%]\n",
      "Fitted frame    36/36  [100.0%]\n",
      "Fitted frame    52/52  [100.0%]\n",
      "Fitted frame    51/51  [100.0%]\n",
      "Fitted frame    51/51  [100.0%]\n",
      "Fitted frame    49/49  [100.0%]\n",
      "Fitted frame    45/45  [100.0%]\n",
      "Fitted frame    43/43  [100.0%]\n",
      "Fitted frame    54/54  [100.0%]\n",
      "Fitted frame    64/64  [100.0%]\n",
      "Fitted frame    48/48  [100.0%]\n",
      "Fitted frame    81/81  [100.0%]\n",
      "Fitted frame   145/145  [100.0%]\n",
      "Fitted frame   226/226  [100.0%]\n",
      "Fitted frame   100/100  [100.0%]\n",
      "Fitted frame   100/100  [100.0%]\n",
      "Fitted frame   100/100  [100.0%]\n",
      "Fitted frame   107/107  [100.0%]\n",
      "Fitted frame   107/107  [100.0%]\n",
      "Fitted frame   107/107  [100.0%]\n",
      "Fitted frame   100/100  [100.0%]\n"
     ]
    },
    {
     "name": "stdout",
     "output_type": "stream",
     "text": [
      "Generating Path objects from aligned trajectories...\n"
     ]
    }
   ],
   "source": [
    "print(\"Generating Path objects from aligned trajectories...\")\n",
    "psa_full.generate_paths(align=True, store=True)"
   ]
  },
  {
   "cell_type": "markdown",
   "metadata": {},
   "source": [
    "# ============================="
   ]
  },
  {
   "cell_type": "code",
   "execution_count": 130,
   "metadata": {
    "collapsed": false
   },
   "outputs": [],
   "source": [
    "# metric = 'discrete_frechet'\n",
    "metric = frechet2\n",
    "linkage = 'ward' # 'single' 'complete' 'weighted' 'average'\n",
    "plotname = 'df_ward_psa-withTMD-7E-3_test2.pdf'"
   ]
  },
  {
   "cell_type": "code",
   "execution_count": 131,
   "metadata": {
    "collapsed": false
   },
   "outputs": [
    {
     "name": "stdout",
     "output_type": "stream",
     "text": [
      "Calculating distance matrix...\n"
     ]
    }
   ],
   "source": [
    "print(\"Calculating distance matrix...\")\n",
    "psa_full.run(metric=metric)"
   ]
  },
  {
   "cell_type": "code",
   "execution_count": 132,
   "metadata": {
    "collapsed": false
   },
   "outputs": [
    {
     "name": "stdout",
     "output_type": "stream",
     "text": [
      "Plotting heat map-dendrogram for hierarchical clustering...\n"
     ]
    }
   ],
   "source": [
    "print(\"Plotting heat map-dendrogram for hierarchical clustering...\")\n",
    "psa_full.plot(filename=plotname, linkage=linkage);"
   ]
  },
  {
   "cell_type": "code",
   "execution_count": 12,
   "metadata": {
    "collapsed": true
   },
   "outputs": [],
   "source": [
    "df_default = psa_full.D"
   ]
  },
  {
   "cell_type": "code",
   "execution_count": 133,
   "metadata": {
    "collapsed": false
   },
   "outputs": [],
   "source": [
    "# metric = 'hausdorff'\n",
    "metric = hausdorff2\n",
    "linkage = 'ward' # 'single' 'complete' 'weighted' 'average'\n",
    "plotname = 'dh_ward_psa-withTMD-7E-3_test2.pdf'"
   ]
  },
  {
   "cell_type": "code",
   "execution_count": 134,
   "metadata": {
    "collapsed": false
   },
   "outputs": [
    {
     "name": "stdout",
     "output_type": "stream",
     "text": [
      "Calculating distance matrix...\n"
     ]
    }
   ],
   "source": [
    "print(\"Calculating distance matrix...\")\n",
    "psa_full.run(metric=metric)"
   ]
  },
  {
   "cell_type": "code",
   "execution_count": 135,
   "metadata": {
    "collapsed": false
   },
   "outputs": [
    {
     "name": "stdout",
     "output_type": "stream",
     "text": [
      "Plotting heat map-dendrogram for hierarchical clustering...\n"
     ]
    }
   ],
   "source": [
    "print(\"Plotting heat map-dendrogram for hierarchical clustering...\")\n",
    "psa_full.plot(filename=plotname, linkage=linkage);"
   ]
  },
  {
   "cell_type": "code",
   "execution_count": 153,
   "metadata": {
    "collapsed": true
   },
   "outputs": [],
   "source": [
    "dh_default = psa_full.D"
   ]
  },
  {
   "cell_type": "markdown",
   "metadata": {},
   "source": [
    "# ============================="
   ]
  },
  {
   "cell_type": "code",
   "execution_count": 167,
   "metadata": {
    "collapsed": false
   },
   "outputs": [
    {
     "name": "stdout",
     "output_type": "stream",
     "text": [
      "Calculating distance matrix...\n",
      "1 loops, best of 3: 1.4 s per loop\n"
     ]
    }
   ],
   "source": [
    "print(\"Calculating distance matrix...\")\n",
    "%timeit -r3 psa_full.run(metric=frechet)\n",
    "df1 = psa_full.D"
   ]
  },
  {
   "cell_type": "code",
   "execution_count": 117,
   "metadata": {
    "collapsed": false
   },
   "outputs": [
    {
     "name": "stdout",
     "output_type": "stream",
     "text": [
      "Calculating distance matrix...\n",
      "1 loops, best of 3: 1.36 s per loop\n"
     ]
    }
   ],
   "source": [
    "print(\"Calculating distance matrix...\")\n",
    "%timeit -r3 psa_full.run(metric=frechet2)\n",
    "df2 = psa_full.D"
   ]
  },
  {
   "cell_type": "code",
   "execution_count": 118,
   "metadata": {
    "collapsed": false
   },
   "outputs": [
    {
     "data": {
      "text/plain": [
       "True"
      ]
     },
     "execution_count": 118,
     "metadata": {},
     "output_type": "execute_result"
    }
   ],
   "source": [
    "np.equal(df1, df2).all()"
   ]
  },
  {
   "cell_type": "code",
   "execution_count": 119,
   "metadata": {
    "collapsed": false
   },
   "outputs": [
    {
     "name": "stdout",
     "output_type": "stream",
     "text": [
      "Calculating distance matrix...\n",
      "1 loops, best of 3: 843 ms per loop\n"
     ]
    }
   ],
   "source": [
    "print(\"Calculating distance matrix...\")\n",
    "%timeit -r3 psa_full.run(metric=hausdorff)\n",
    "dh1 = psa_full.D"
   ]
  },
  {
   "cell_type": "code",
   "execution_count": 120,
   "metadata": {
    "collapsed": false
   },
   "outputs": [
    {
     "name": "stdout",
     "output_type": "stream",
     "text": [
      "Calculating distance matrix...\n",
      "1 loops, best of 3: 840 ms per loop\n"
     ]
    }
   ],
   "source": [
    "print(\"Calculating distance matrix...\")\n",
    "%timeit -r3 psa_full.run(metric=hausdorff2)\n",
    "dh2 = psa_full.D"
   ]
  },
  {
   "cell_type": "code",
   "execution_count": 123,
   "metadata": {
    "collapsed": false
   },
   "outputs": [
    {
     "data": {
      "text/plain": [
       "True"
      ]
     },
     "execution_count": 123,
     "metadata": {},
     "output_type": "execute_result"
    }
   ],
   "source": [
    "np.equal(dh1, dh2).all()"
   ]
  },
  {
   "cell_type": "markdown",
   "metadata": {},
   "source": [
    "# ============================="
   ]
  },
  {
   "cell_type": "markdown",
   "metadata": {},
   "source": [
    "# Hausdorff"
   ]
  },
  {
   "cell_type": "code",
   "execution_count": 128,
   "metadata": {
    "collapsed": false
   },
   "outputs": [],
   "source": [
    "%%cython -f -c=-Ofast -c=-march=native\n",
    "import numpy as np\n",
    "cimport numpy as np\n",
    "from libc.math cimport sqrt, fmax, fmin\n",
    "import cython\n",
    "cimport cython\n",
    "\n",
    "@cython.boundscheck(False)\n",
    "@cython.wraparound(False)\n",
    "cdef float[:,::1] rmsdMatrix_c(float[:,::1] P, float[:,::1] Q):\n",
    "    cdef np.intp_t lenP = P.shape[0]\n",
    "    cdef np.intp_t lenQ = Q.shape[0]\n",
    "    cdef np.intp_t i, j, k\n",
    "    cdef float s, diff\n",
    "    cdef float[:,::1] d = np.empty((lenP, lenQ), dtype='float32')\n",
    "    for i in xrange(lenP):\n",
    "        for j in xrange(lenQ):\n",
    "            s = 0.0\n",
    "            for k in xrange(P.shape[1]):\n",
    "                diff = P[i,k] - Q[j,k]\n",
    "                s += diff*diff\n",
    "            d[i,j] = s\n",
    "    return d\n",
    "\n",
    "@cython.boundscheck(False)\n",
    "@cython.wraparound(False)\n",
    "def hausdorff(float[:,::1] P, float[:,::1] Q, np.intp_t N):\n",
    "    assert (int(P.shape[1]) == int(3*N) and P.shape[1] == Q.shape[1])\n",
    "    cdef float[:,::1] d = rmsdMatrix_c(P, Q)\n",
    "\n",
    "    return sqrt( fmax( np.amax(np.amin(d, axis=0)), np.amax(np.amin(d, axis=1)) ) / N  )"
   ]
  },
  {
   "cell_type": "markdown",
   "metadata": {},
   "source": [
    "# Frechet"
   ]
  },
  {
   "cell_type": "code",
   "execution_count": 172,
   "metadata": {
    "collapsed": false
   },
   "outputs": [],
   "source": [
    "%%cython -f -c=-O3 -c=-march=native -c=-funroll-loops -c=-ffast-math\n",
    "import numpy as np\n",
    "cimport numpy as np\n",
    "from libc.math cimport fmin, fmax, sqrt\n",
    "cimport cython\n",
    "\n",
    "ctypedef float (*cD_ptr)(float[:,::1], float[:,::1], np.intp_t, np.intp_t)\n",
    "\n",
    "cdef float fmin3(float a, float b, float c):\n",
    "    return fmin(fmin(a,b),c)\n",
    "\n",
    "@cython.boundscheck(False)\n",
    "@cython.wraparound(False)\n",
    "cdef float cD(float[:,::1] d, float[:,::1] cd, np.intp_t i, np.intp_t j):\n",
    "    cdef np.intp_t im1 = i-1\n",
    "    cdef np.intp_t jm1 = j-1\n",
    "    if cd[i,j] != -1 : return cd[i,j]\n",
    "    if i > 0:\n",
    "        if j > 0: cd[i,j] = fmax( fmin3(cD(d,cd,i,jm1),cD(d,cd,im1,jm1),cD(d,cd,im1,j)), d[i,j] )\n",
    "        else:     cd[i,0] = fmax( cD(d,cd,im1,0), d[i,0] )\n",
    "    elif j > 0:   cd[0,j] = fmax( cD(d,cd,0,jm1), d[0,j] )\n",
    "    else:         cd[0,0] = d[0,0]\n",
    "    return        cd[i,j]\n",
    "\n",
    "@cython.boundscheck(False)\n",
    "@cython.wraparound(False)\n",
    "cdef float[:,::1] rmsdMatrix_c(float[:,::1] P, float[:,::1] Q):\n",
    "    cdef np.intp_t lenP = P.shape[0]\n",
    "    cdef np.intp_t lenQ = Q.shape[0]\n",
    "    cdef np.intp_t i, j, k\n",
    "    cdef float s, diff\n",
    "    cdef float[:,::1] d = np.empty((lenP, lenQ), dtype='float32')\n",
    "    for i in xrange(lenP):\n",
    "        for j in xrange(lenQ):\n",
    "            s = 0.0\n",
    "            for k in xrange(P.shape[1]):\n",
    "                diff = P[i,k] - Q[j,k]\n",
    "                s += diff*diff\n",
    "            d[i,j] = s\n",
    "    return d\n",
    "\n",
    "@cython.boundscheck(False)\n",
    "@cython.wraparound(False)\n",
    "def frechet(float[:,::1] P, float[:,::1] Q, np.intp_t N):\n",
    "    cdef np.intp_t lenP = P.shape[0]\n",
    "    cdef np.intp_t lenQ = Q.shape[0]\n",
    "    \n",
    "    assert int(P.shape[1]) == int(3*N)\n",
    "    assert P.shape[1] == Q.shape[1]\n",
    "    \n",
    "    cdef float[:,::1] d = rmsdMatrix_c(P, Q)\n",
    "    cdef float[:,::1] cd = -np.ones((lenP, lenQ), dtype='float32')\n",
    "    cdef cD_ptr couplingDistance = &cD\n",
    "\n",
    "    return sqrt( couplingDistance(d, cd, lenP-1, lenQ-1) / N )"
   ]
  },
  {
   "cell_type": "markdown",
   "metadata": {},
   "source": [
    "# Average Frechet"
   ]
  },
  {
   "cell_type": "markdown",
   "metadata": {},
   "source": [
    "## Maximum-link-length (original) coupling distance function"
   ]
  },
  {
   "cell_type": "code",
   "execution_count": null,
   "metadata": {
    "collapsed": true
   },
   "outputs": [],
   "source": [
    "def c(i, j):\n",
    "    if ca[i,j] != -1 : return ca[i,j]\n",
    "    if i > 0:\n",
    "        if j > 0: ca[i,j] = max( min(c(i-1,j),c(i,j-1),c(i-1,j-1)), d[i,j] )\n",
    "        else:     ca[i,j] = max( c(i-1,0), d[i,0] )\n",
    "    elif j > 0:   ca[i,j] = max( c(0,j-1), d[0,j] )\n",
    "    else:         ca[i,j] = d[0,0]\n",
    "    return        ca[i,j]"
   ]
  },
  {
   "cell_type": "markdown",
   "metadata": {},
   "source": [
    "## Average-link-length coupling distance function"
   ]
  },
  {
   "cell_type": "code",
   "execution_count": null,
   "metadata": {
    "collapsed": true
   },
   "outputs": [],
   "source": [
    "def c(i, j):\n",
    "    if cd[i,j] != -1 : return ca[i,j]\n",
    "    \n",
    "    if i > 0:\n",
    "        if j > 0:\n",
    "            if c(i-1,j) < c(i,j-1):\n",
    "                if c(i-1,j) < c(i-1,j-1):\n",
    "                    cd[i,j] = c(i-1,j)\n",
    "                    cl[i,j] = cl[i-1,j] + 1\n",
    "            elif c(i,j-1) < c(i-1,j-1):\n",
    "                cd[i,j] = c(i,j-1)\n",
    "                cl[i,j] = cl[i,j-1] + 1\n",
    "            else:\n",
    "                cd[i,j] = c(i-1,j-1)\n",
    "                cl[i,j] = cl[i-1,j-1] + 1\n",
    "        else:\n",
    "            cd[i,0] = c(i-1,0) + d[i,0]\n",
    "            cl[i,0] = cl[i-1,0] + 1\n",
    "    elif j > 0:\n",
    "        cd[0,j] = c(0,j-1) + d[0,j]\n",
    "        cl[0,j] = cl[0,j-1] + 1\n",
    "    else:\n",
    "        cd[0,0] = d[0,0]\n",
    "        cl[0,0] = 1\n",
    "\n",
    "    return ca[i,j]"
   ]
  },
  {
   "cell_type": "code",
   "execution_count": 95,
   "metadata": {
    "collapsed": false
   },
   "outputs": [],
   "source": [
    "%%cython -f -c=-O3 -c=-march=native -c=-funroll-loops -c=-ffast-math\n",
    "import numpy as np\n",
    "cimport numpy as np\n",
    "from libc.math cimport fmin, fmax, sqrt\n",
    "cimport cython\n",
    "\n",
    "ctypedef float (*fcn_ptr)(float[:,::1], float[:,::1], np.intp_t, np.intp_t)\n",
    "\n",
    "@cython.boundscheck(False)\n",
    "@cython.wraparound(False)\n",
    "cdef float[::1] c(float[:,::1] d, float[:,:,::1] cd, np.intp_t i, np.intp_t j):\n",
    "    cdef np.intp_t im1, jm1\n",
    "    im1 = i-1\n",
    "    jm1 = j-1\n",
    "    if ca[i,j] != -1 : return cd[i,j,:]\n",
    "    if i > 0:\n",
    "        if j > 0:\n",
    "            ci1j = c(d,cd,im1,j)\n",
    "            cij1 = c(d,cd,i,jm1)\n",
    "            ci1j1 = c(d,cd,im1,jm1)\n",
    "            if ci1j[0] < cij1[0]:\n",
    "                if ci1j[0] < ci1j1[0]:\n",
    "                    cd[i,j,0] = ci1j[0] + d[i,j]\n",
    "                    cd[i,j,1] = ci1j[1] + 1\n",
    "            elif cij1[0] < ci1j1[0]:\n",
    "                cd[i,j,0] = cij1[0] + d[i,j]\n",
    "                cd[i,j,1] = cij1[1] + 1\n",
    "            else:\n",
    "                cd[i,j,0] = ci1j1[0] + d[i,j]\n",
    "                cd[i,j,1] = ci1j1[1] + 1\n",
    "        else:\n",
    "            cd[i,0] = c(d,cd,cl,im1,0) + d[i,0]\n",
    "            cl[i,0] = cl[i-1,0] + 1\n",
    "    elif j > 0:\n",
    "        cd[0,j] =  c(d,cd,cl,0,jm1) +d[0,j]\n",
    "        cl[0,j] = cl[0,j-1] + 1\n",
    "    else:\n",
    "        cd[0,0] = d[0,0]\n",
    "        cl[0,0] = 1\n",
    "    return cd[i,j]\n",
    "\n",
    "\n",
    "@cython.boundscheck(False)\n",
    "@cython.wraparound(False)\n",
    "def frechet_avg(float[:,::1] P, float[:,::1] Q, np.intp_t N):\n",
    "    cdef np.intp_t lenP, lenQ, i, j, k\n",
    "    \n",
    "    lenP = P.shape[0]\n",
    "    lenQ = Q.shape[0]\n",
    "    \n",
    "    cdef float[:,::1] d = np.empty((lenP, lenQ), dtype='float32')\n",
    "    cdef float[:,::1] cd = -np.ones((lenP, lenQ), dtype='float32')\n",
    "    cdef float[:,::1] cl = -np.ones((lenP, lenQ), dtype='float32')\n",
    "    cdef float s, temp\n",
    "    cdef fcn_ptr cf = &c\n",
    "    \n",
    "    for i in xrange(lenP):\n",
    "        for j in xrange(lenQ):\n",
    "            s = 0.0\n",
    "            for k in xrange(P.shape[1]):\n",
    "                temp = P[i,k] - Q[j,k]\n",
    "                s += temp*temp\n",
    "            d[i,j] = s\n",
    "\n",
    "    return sqrt( c(d, cd, cl, lenP-1, lenQ-1) / N )"
   ]
  }
 ],
 "metadata": {
  "kernelspec": {
   "display_name": "Python 2",
   "language": "python",
   "name": "python2"
  },
  "language_info": {
   "codemirror_mode": {
    "name": "ipython",
    "version": 2
   },
   "file_extension": ".py",
   "mimetype": "text/x-python",
   "name": "python",
   "nbconvert_exporter": "python",
   "pygments_lexer": "ipython2",
   "version": "2.7.6"
  }
 },
 "nbformat": 4,
 "nbformat_minor": 0
}
